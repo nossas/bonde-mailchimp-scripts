{
 "cells": [
  {
   "cell_type": "code",
   "execution_count": 23,
   "metadata": {},
   "outputs": [
    {
     "name": "stdout",
     "output_type": "stream",
     "text": [
      "Populating the interactive namespace from numpy and matplotlib\n"
     ]
    }
   ],
   "source": [
    "import pandas as pd\n",
    "import numpy as np"
   ]
  },
  {
   "cell_type": "markdown",
   "metadata": {},
   "source": [
    "Primeira parte da junção da base com os dados ultra engajados"
   ]
  },
  {
   "cell_type": "code",
   "execution_count": 24,
   "metadata": {
    "scrolled": true
   },
   "outputs": [
    {
     "ename": "FileNotFoundError",
     "evalue": "[Errno 2] No such file or directory: '[PDM] Inscritos localizados na Região Amazônica.csv'",
     "output_type": "error",
     "traceback": [
      "\u001b[0;31m---------------------------------------------------------------------------\u001b[0m",
      "\u001b[0;31mFileNotFoundError\u001b[0m                         Traceback (most recent call last)",
      "\u001b[0;32m<ipython-input-24-0a5821348644>\u001b[0m in \u001b[0;36m<module>\u001b[0;34m()\u001b[0m\n\u001b[0;32m----> 1\u001b[0;31m \u001b[0mdf1\u001b[0m \u001b[0;34m=\u001b[0m \u001b[0mpd\u001b[0m\u001b[0;34m.\u001b[0m\u001b[0mread_csv\u001b[0m\u001b[0;34m(\u001b[0m\u001b[0;34m'[PDM] Inscritos localizados na Região Amazônica.csv'\u001b[0m\u001b[0;34m)\u001b[0m\u001b[0;34m\u001b[0m\u001b[0m\n\u001b[0m\u001b[1;32m      2\u001b[0m \u001b[0mdf2\u001b[0m \u001b[0;34m=\u001b[0m \u001b[0mpd\u001b[0m\u001b[0;34m.\u001b[0m\u001b[0mread_csv\u001b[0m\u001b[0;34m(\u001b[0m\u001b[0;34m'[PDM] Participantes engajados localizados na Região Amazônica.csv'\u001b[0m\u001b[0;34m)\u001b[0m\u001b[0;34m\u001b[0m\u001b[0m\n\u001b[1;32m      3\u001b[0m \u001b[0mdf3\u001b[0m \u001b[0;34m=\u001b[0m \u001b[0mpd\u001b[0m\u001b[0;34m.\u001b[0m\u001b[0mread_csv\u001b[0m\u001b[0;34m(\u001b[0m\u001b[0;34m'Criadores de campanhas do ENEM.csv'\u001b[0m\u001b[0;34m)\u001b[0m\u001b[0;34m\u001b[0m\u001b[0m\n\u001b[1;32m      4\u001b[0m \u001b[0mdf4\u001b[0m \u001b[0;34m=\u001b[0m \u001b[0mpd\u001b[0m\u001b[0;34m.\u001b[0m\u001b[0mread_csv\u001b[0m\u001b[0;34m(\u001b[0m\u001b[0;34m'Edital Periferia que faz - Região Amazônica.csv'\u001b[0m\u001b[0;34m)\u001b[0m\u001b[0;34m\u001b[0m\u001b[0m\n\u001b[1;32m      5\u001b[0m \u001b[0mdf5\u001b[0m \u001b[0;34m=\u001b[0m \u001b[0mpd\u001b[0m\u001b[0;34m.\u001b[0m\u001b[0mread_csv\u001b[0m\u001b[0;34m(\u001b[0m\u001b[0;34m'Voluntárias Mapa localizadas na Região Amazônica.csv'\u001b[0m\u001b[0;34m)\u001b[0m\u001b[0;34m\u001b[0m\u001b[0m\n",
      "\u001b[0;32m/opt/conda/lib/python3.6/site-packages/pandas/io/parsers.py\u001b[0m in \u001b[0;36mread_csv\u001b[0;34m(filepath_or_buffer, sep, delimiter, header, names, index_col, usecols, squeeze, prefix, mangle_dupe_cols, dtype, engine, converters, true_values, false_values, skipinitialspace, skiprows, skipfooter, nrows, na_values, keep_default_na, na_filter, verbose, skip_blank_lines, parse_dates, infer_datetime_format, keep_date_col, date_parser, dayfirst, cache_dates, iterator, chunksize, compression, thousands, decimal, lineterminator, quotechar, quoting, doublequote, escapechar, comment, encoding, dialect, error_bad_lines, warn_bad_lines, delim_whitespace, low_memory, memory_map, float_precision)\u001b[0m\n\u001b[1;32m    686\u001b[0m     )\n\u001b[1;32m    687\u001b[0m \u001b[0;34m\u001b[0m\u001b[0m\n\u001b[0;32m--> 688\u001b[0;31m     \u001b[0;32mreturn\u001b[0m \u001b[0m_read\u001b[0m\u001b[0;34m(\u001b[0m\u001b[0mfilepath_or_buffer\u001b[0m\u001b[0;34m,\u001b[0m \u001b[0mkwds\u001b[0m\u001b[0;34m)\u001b[0m\u001b[0;34m\u001b[0m\u001b[0m\n\u001b[0m\u001b[1;32m    689\u001b[0m \u001b[0;34m\u001b[0m\u001b[0m\n\u001b[1;32m    690\u001b[0m \u001b[0;34m\u001b[0m\u001b[0m\n",
      "\u001b[0;32m/opt/conda/lib/python3.6/site-packages/pandas/io/parsers.py\u001b[0m in \u001b[0;36m_read\u001b[0;34m(filepath_or_buffer, kwds)\u001b[0m\n\u001b[1;32m    452\u001b[0m \u001b[0;34m\u001b[0m\u001b[0m\n\u001b[1;32m    453\u001b[0m     \u001b[0;31m# Create the parser.\u001b[0m\u001b[0;34m\u001b[0m\u001b[0;34m\u001b[0m\u001b[0m\n\u001b[0;32m--> 454\u001b[0;31m     \u001b[0mparser\u001b[0m \u001b[0;34m=\u001b[0m \u001b[0mTextFileReader\u001b[0m\u001b[0;34m(\u001b[0m\u001b[0mfp_or_buf\u001b[0m\u001b[0;34m,\u001b[0m \u001b[0;34m**\u001b[0m\u001b[0mkwds\u001b[0m\u001b[0;34m)\u001b[0m\u001b[0;34m\u001b[0m\u001b[0m\n\u001b[0m\u001b[1;32m    455\u001b[0m \u001b[0;34m\u001b[0m\u001b[0m\n\u001b[1;32m    456\u001b[0m     \u001b[0;32mif\u001b[0m \u001b[0mchunksize\u001b[0m \u001b[0;32mor\u001b[0m \u001b[0miterator\u001b[0m\u001b[0;34m:\u001b[0m\u001b[0;34m\u001b[0m\u001b[0m\n",
      "\u001b[0;32m/opt/conda/lib/python3.6/site-packages/pandas/io/parsers.py\u001b[0m in \u001b[0;36m__init__\u001b[0;34m(self, f, engine, **kwds)\u001b[0m\n\u001b[1;32m    946\u001b[0m             \u001b[0mself\u001b[0m\u001b[0;34m.\u001b[0m\u001b[0moptions\u001b[0m\u001b[0;34m[\u001b[0m\u001b[0;34m\"has_index_names\"\u001b[0m\u001b[0;34m]\u001b[0m \u001b[0;34m=\u001b[0m \u001b[0mkwds\u001b[0m\u001b[0;34m[\u001b[0m\u001b[0;34m\"has_index_names\"\u001b[0m\u001b[0;34m]\u001b[0m\u001b[0;34m\u001b[0m\u001b[0m\n\u001b[1;32m    947\u001b[0m \u001b[0;34m\u001b[0m\u001b[0m\n\u001b[0;32m--> 948\u001b[0;31m         \u001b[0mself\u001b[0m\u001b[0;34m.\u001b[0m\u001b[0m_make_engine\u001b[0m\u001b[0;34m(\u001b[0m\u001b[0mself\u001b[0m\u001b[0;34m.\u001b[0m\u001b[0mengine\u001b[0m\u001b[0;34m)\u001b[0m\u001b[0;34m\u001b[0m\u001b[0m\n\u001b[0m\u001b[1;32m    949\u001b[0m \u001b[0;34m\u001b[0m\u001b[0m\n\u001b[1;32m    950\u001b[0m     \u001b[0;32mdef\u001b[0m \u001b[0mclose\u001b[0m\u001b[0;34m(\u001b[0m\u001b[0mself\u001b[0m\u001b[0;34m)\u001b[0m\u001b[0;34m:\u001b[0m\u001b[0;34m\u001b[0m\u001b[0m\n",
      "\u001b[0;32m/opt/conda/lib/python3.6/site-packages/pandas/io/parsers.py\u001b[0m in \u001b[0;36m_make_engine\u001b[0;34m(self, engine)\u001b[0m\n\u001b[1;32m   1178\u001b[0m     \u001b[0;32mdef\u001b[0m \u001b[0m_make_engine\u001b[0m\u001b[0;34m(\u001b[0m\u001b[0mself\u001b[0m\u001b[0;34m,\u001b[0m \u001b[0mengine\u001b[0m\u001b[0;34m=\u001b[0m\u001b[0;34m\"c\"\u001b[0m\u001b[0;34m)\u001b[0m\u001b[0;34m:\u001b[0m\u001b[0;34m\u001b[0m\u001b[0m\n\u001b[1;32m   1179\u001b[0m         \u001b[0;32mif\u001b[0m \u001b[0mengine\u001b[0m \u001b[0;34m==\u001b[0m \u001b[0;34m\"c\"\u001b[0m\u001b[0;34m:\u001b[0m\u001b[0;34m\u001b[0m\u001b[0m\n\u001b[0;32m-> 1180\u001b[0;31m             \u001b[0mself\u001b[0m\u001b[0;34m.\u001b[0m\u001b[0m_engine\u001b[0m \u001b[0;34m=\u001b[0m \u001b[0mCParserWrapper\u001b[0m\u001b[0;34m(\u001b[0m\u001b[0mself\u001b[0m\u001b[0;34m.\u001b[0m\u001b[0mf\u001b[0m\u001b[0;34m,\u001b[0m \u001b[0;34m**\u001b[0m\u001b[0mself\u001b[0m\u001b[0;34m.\u001b[0m\u001b[0moptions\u001b[0m\u001b[0;34m)\u001b[0m\u001b[0;34m\u001b[0m\u001b[0m\n\u001b[0m\u001b[1;32m   1181\u001b[0m         \u001b[0;32melse\u001b[0m\u001b[0;34m:\u001b[0m\u001b[0;34m\u001b[0m\u001b[0m\n\u001b[1;32m   1182\u001b[0m             \u001b[0;32mif\u001b[0m \u001b[0mengine\u001b[0m \u001b[0;34m==\u001b[0m \u001b[0;34m\"python\"\u001b[0m\u001b[0;34m:\u001b[0m\u001b[0;34m\u001b[0m\u001b[0m\n",
      "\u001b[0;32m/opt/conda/lib/python3.6/site-packages/pandas/io/parsers.py\u001b[0m in \u001b[0;36m__init__\u001b[0;34m(self, src, **kwds)\u001b[0m\n\u001b[1;32m   2008\u001b[0m         \u001b[0mkwds\u001b[0m\u001b[0;34m[\u001b[0m\u001b[0;34m\"usecols\"\u001b[0m\u001b[0;34m]\u001b[0m \u001b[0;34m=\u001b[0m \u001b[0mself\u001b[0m\u001b[0;34m.\u001b[0m\u001b[0musecols\u001b[0m\u001b[0;34m\u001b[0m\u001b[0m\n\u001b[1;32m   2009\u001b[0m \u001b[0;34m\u001b[0m\u001b[0m\n\u001b[0;32m-> 2010\u001b[0;31m         \u001b[0mself\u001b[0m\u001b[0;34m.\u001b[0m\u001b[0m_reader\u001b[0m \u001b[0;34m=\u001b[0m \u001b[0mparsers\u001b[0m\u001b[0;34m.\u001b[0m\u001b[0mTextReader\u001b[0m\u001b[0;34m(\u001b[0m\u001b[0msrc\u001b[0m\u001b[0;34m,\u001b[0m \u001b[0;34m**\u001b[0m\u001b[0mkwds\u001b[0m\u001b[0;34m)\u001b[0m\u001b[0;34m\u001b[0m\u001b[0m\n\u001b[0m\u001b[1;32m   2011\u001b[0m         \u001b[0mself\u001b[0m\u001b[0;34m.\u001b[0m\u001b[0munnamed_cols\u001b[0m \u001b[0;34m=\u001b[0m \u001b[0mself\u001b[0m\u001b[0;34m.\u001b[0m\u001b[0m_reader\u001b[0m\u001b[0;34m.\u001b[0m\u001b[0munnamed_cols\u001b[0m\u001b[0;34m\u001b[0m\u001b[0m\n\u001b[1;32m   2012\u001b[0m \u001b[0;34m\u001b[0m\u001b[0m\n",
      "\u001b[0;32mpandas/_libs/parsers.pyx\u001b[0m in \u001b[0;36mpandas._libs.parsers.TextReader.__cinit__\u001b[0;34m()\u001b[0m\n",
      "\u001b[0;32mpandas/_libs/parsers.pyx\u001b[0m in \u001b[0;36mpandas._libs.parsers.TextReader._setup_parser_source\u001b[0;34m()\u001b[0m\n",
      "\u001b[0;31mFileNotFoundError\u001b[0m: [Errno 2] No such file or directory: '[PDM] Inscritos localizados na Região Amazônica.csv'"
     ]
    }
   ],
   "source": [
    "df1 = pd.read_csv('[PDM] Inscritos localizados na Região Amazônica.csv')\n",
    "df2 = pd.read_csv('[PDM] Participantes engajados localizados na Região Amazônica.csv')\n",
    "df3 = pd.read_csv('Criadores de campanhas do ENEM.csv')\n",
    "df4 = pd.read_csv('Edital Periferia que faz - Região Amazônica.csv')\n",
    "df5 = pd.read_csv('Voluntárias Mapa localizadas na Região Amazônica.csv')"
   ]
  },
  {
   "cell_type": "code",
   "execution_count": 3,
   "metadata": {},
   "outputs": [],
   "source": [
    "df = pd.concat([df1, df2, df3, df4, df5] , axis=0)"
   ]
  },
  {
   "cell_type": "code",
   "execution_count": 4,
   "metadata": {},
   "outputs": [],
   "source": [
    "df_final = df.drop_duplicates(subset=['Email'])"
   ]
  },
  {
   "cell_type": "code",
   "execution_count": 5,
   "metadata": {},
   "outputs": [],
   "source": [
    "df_final.to_csv('Base Ultra Engajada.csv', index=False)"
   ]
  },
  {
   "cell_type": "markdown",
   "metadata": {},
   "source": [
    "Segunda parte da junção da base com os dados gerais"
   ]
  },
  {
   "cell_type": "code",
   "execution_count": 6,
   "metadata": {},
   "outputs": [],
   "source": [
    "_df1 = pd.read_csv('Donations.csv')\n",
    "_df2 = pd.read_csv('Pressionadores Enem.csv')\n",
    "_df3 = pd.read_csv('Activists pressures.csv')\n",
    "_df4 = pd.read_csv('forms pt1.csv')\n",
    "_df5 = pd.read_csv('Forms pt2.csv')\n",
    "_df6 = pd.read_csv('forms_ddd_pt3.csv')"
   ]
  },
  {
   "cell_type": "code",
   "execution_count": 7,
   "metadata": {},
   "outputs": [],
   "source": [
    "_df = pd.concat([_df1, _df2, _df3, _df4, _df5, _df6] , axis=0)"
   ]
  },
  {
   "cell_type": "code",
   "execution_count": 8,
   "metadata": {},
   "outputs": [],
   "source": [
    "_df_final = _df.drop_duplicates(subset=['Email'])"
   ]
  },
  {
   "cell_type": "code",
   "execution_count": 9,
   "metadata": {},
   "outputs": [],
   "source": [
    "_df_final.to_csv('Base Geral.csv', index=False)"
   ]
  },
  {
   "cell_type": "markdown",
   "metadata": {},
   "source": [
    "Junção das duas bases de dados, gerando a base final da região amazônica."
   ]
  },
  {
   "cell_type": "code",
   "execution_count": 10,
   "metadata": {},
   "outputs": [],
   "source": [
    "base = pd.concat([df_final, _df_final] , axis=0)"
   ]
  },
  {
   "cell_type": "code",
   "execution_count": 11,
   "metadata": {},
   "outputs": [],
   "source": [
    "base_final = base.drop_duplicates(subset=['Email'])"
   ]
  },
  {
   "cell_type": "code",
   "execution_count": 15,
   "metadata": {},
   "outputs": [],
   "source": [
    "base_final_ = base_final= base_final[['Nome', 'Sobrenome', 'Telefone', 'Email', 'Estado', 'Cidade', 'Origem']]"
   ]
  },
  {
   "cell_type": "code",
   "execution_count": 17,
   "metadata": {},
   "outputs": [],
   "source": [
    "base_final.to_csv('Base de contatos da Região Amazônica.csv', index=False)"
   ]
  },
  {
   "cell_type": "code",
   "execution_count": 2,
   "metadata": {},
   "outputs": [],
   "source": [
    "df1 = pd.read_csv('Base Engajada - Página1.csv')\n",
    "df2 = pd.read_csv('Base Engajada - Página1.csv')"
   ]
  },
  {
   "cell_type": "code",
   "execution_count": 3,
   "metadata": {},
   "outputs": [],
   "source": [
    "df = pd.concat([df1, df2] , axis=0)"
   ]
  },
  {
   "cell_type": "code",
   "execution_count": 9,
   "metadata": {},
   "outputs": [],
   "source": [
    "df_final = df.sort_values('Updated At')"
   ]
  },
  {
   "cell_type": "code",
   "execution_count": 12,
   "metadata": {},
   "outputs": [],
   "source": [
    "df_final = df_final.drop_duplicates(subset=['Email'], keep='last')"
   ]
  },
  {
   "cell_type": "code",
   "execution_count": 14,
   "metadata": {},
   "outputs": [],
   "source": [
    "df_final = df_final[['Nome', 'Sobrenome', 'Telefone', 'Email', 'Estado', 'Cidade', 'Origem']]"
   ]
  },
  {
   "cell_type": "code",
   "execution_count": 15,
   "metadata": {},
   "outputs": [],
   "source": [
    "df_final.to_csv('Contatos da Região Amazônica.csv', index=False)"
   ]
  },
  {
   "cell_type": "code",
   "execution_count": 19,
   "metadata": {},
   "outputs": [],
   "source": [
    "df1 = pd.read_csv('Base Ultra Engajada (1).csv')\n",
    "df2 = pd.read_csv('Base Engajada - Página1.csv')"
   ]
  },
  {
   "cell_type": "code",
   "execution_count": 20,
   "metadata": {},
   "outputs": [],
   "source": [
    "df = pd.concat([df1, df2] , axis=0)"
   ]
  },
  {
   "cell_type": "code",
   "execution_count": 22,
   "metadata": {},
   "outputs": [
    {
     "data": {
      "text/html": [
       "<div>\n",
       "<style scoped>\n",
       "    .dataframe tbody tr th:only-of-type {\n",
       "        vertical-align: middle;\n",
       "    }\n",
       "\n",
       "    .dataframe tbody tr th {\n",
       "        vertical-align: top;\n",
       "    }\n",
       "\n",
       "    .dataframe thead th {\n",
       "        text-align: right;\n",
       "    }\n",
       "</style>\n",
       "<table border=\"1\" class=\"dataframe\">\n",
       "  <thead>\n",
       "    <tr style=\"text-align: right;\">\n",
       "      <th></th>\n",
       "      <th>Nome</th>\n",
       "      <th>Sobrenome</th>\n",
       "      <th>Telefone</th>\n",
       "      <th>Email</th>\n",
       "      <th>Estado</th>\n",
       "      <th>Cidade</th>\n",
       "      <th>Origem</th>\n",
       "      <th>E-mail</th>\n",
       "      <th>Updated At</th>\n",
       "    </tr>\n",
       "  </thead>\n",
       "  <tbody>\n",
       "    <tr>\n",
       "      <th>0</th>\n",
       "      <td>Amanda</td>\n",
       "      <td>Brito</td>\n",
       "      <td>66999366639</td>\n",
       "      <td>amandabrito.advogada@gmail.com</td>\n",
       "      <td>MT</td>\n",
       "      <td>Santa Carmem</td>\n",
       "      <td>Voluntárias Mapa</td>\n",
       "      <td>NaN</td>\n",
       "      <td>2019-11-14T19:32:28</td>\n",
       "    </tr>\n",
       "    <tr>\n",
       "      <th>1</th>\n",
       "      <td>Letícia</td>\n",
       "      <td>Gabriela</td>\n",
       "      <td>69992504774</td>\n",
       "      <td>leegabrielaa@icloud.com</td>\n",
       "      <td>RO</td>\n",
       "      <td>Porto Velho</td>\n",
       "      <td>Voluntárias Mapa</td>\n",
       "      <td>NaN</td>\n",
       "      <td>2019-11-14T19:32:48</td>\n",
       "    </tr>\n",
       "    <tr>\n",
       "      <th>2</th>\n",
       "      <td>Ana</td>\n",
       "      <td>Carolina Cunha Araújo</td>\n",
       "      <td>96 981149564</td>\n",
       "      <td>ana.cca86@gmail.com</td>\n",
       "      <td>AP</td>\n",
       "      <td>Macapá</td>\n",
       "      <td>Voluntárias Mapa</td>\n",
       "      <td>NaN</td>\n",
       "      <td>2019-11-14T19:33:14</td>\n",
       "    </tr>\n",
       "    <tr>\n",
       "      <th>3</th>\n",
       "      <td>Ana</td>\n",
       "      <td>Carolina Amorim Ferreira</td>\n",
       "      <td>93 991306734</td>\n",
       "      <td>carolamorim.psi@hotmail.com</td>\n",
       "      <td>PA</td>\n",
       "      <td>Santarém</td>\n",
       "      <td>Voluntárias Mapa</td>\n",
       "      <td>NaN</td>\n",
       "      <td>2019-11-14T19:33:22</td>\n",
       "    </tr>\n",
       "    <tr>\n",
       "      <th>4</th>\n",
       "      <td>Ana</td>\n",
       "      <td>kelly Rodrigues</td>\n",
       "      <td>6699352121</td>\n",
       "      <td>aninhak9@hotmail.com</td>\n",
       "      <td>MT</td>\n",
       "      <td>Poxoreu</td>\n",
       "      <td>Voluntárias Mapa</td>\n",
       "      <td>NaN</td>\n",
       "      <td>2019-11-14T19:33:26</td>\n",
       "    </tr>\n",
       "    <tr>\n",
       "      <th>...</th>\n",
       "      <td>...</td>\n",
       "      <td>...</td>\n",
       "      <td>...</td>\n",
       "      <td>...</td>\n",
       "      <td>...</td>\n",
       "      <td>...</td>\n",
       "      <td>...</td>\n",
       "      <td>...</td>\n",
       "      <td>...</td>\n",
       "    </tr>\n",
       "    <tr>\n",
       "      <th>48185</th>\n",
       "      <td>Sávio</td>\n",
       "      <td>NaN</td>\n",
       "      <td>63984773091</td>\n",
       "      <td>osavioguedes@gmail.com</td>\n",
       "      <td>TO</td>\n",
       "      <td>NaN</td>\n",
       "      <td>Forms</td>\n",
       "      <td>NaN</td>\n",
       "      <td>2021-01-31T02:20:13.315228,66111,miriamlhirano...</td>\n",
       "    </tr>\n",
       "    <tr>\n",
       "      <th>48186</th>\n",
       "      <td>WERBET CHIMENDES</td>\n",
       "      <td>NUNES</td>\n",
       "      <td>98996045396</td>\n",
       "      <td>werbetcn10@gmail.com</td>\n",
       "      <td>MA</td>\n",
       "      <td>NaN</td>\n",
       "      <td>Forms</td>\n",
       "      <td>NaN</td>\n",
       "      <td>2021-02-02T16:21:50.485823,66111,feh.jung@hotm...</td>\n",
       "    </tr>\n",
       "    <tr>\n",
       "      <th>48187</th>\n",
       "      <td>Rafaela Martins Guarda</td>\n",
       "      <td>NaN</td>\n",
       "      <td>63984815677</td>\n",
       "      <td>rafamguarda@gmail.com</td>\n",
       "      <td>TO</td>\n",
       "      <td>NaN</td>\n",
       "      <td>Forms</td>\n",
       "      <td>NaN</td>\n",
       "      <td>2021-02-03T12:19:41.648564,66111,kellynha55@li...</td>\n",
       "    </tr>\n",
       "    <tr>\n",
       "      <th>48188</th>\n",
       "      <td>Nicoly</td>\n",
       "      <td>NaN</td>\n",
       "      <td>63984851700</td>\n",
       "      <td>nicolysoa@hotmail.com</td>\n",
       "      <td>TO</td>\n",
       "      <td>NaN</td>\n",
       "      <td>Forms</td>\n",
       "      <td>NaN</td>\n",
       "      <td>2021-02-03T13:27:53.005281,66111,olavo@bijari....</td>\n",
       "    </tr>\n",
       "    <tr>\n",
       "      <th>48189</th>\n",
       "      <td>Marcus Vinicius Santos de Oliveira</td>\n",
       "      <td>NaN</td>\n",
       "      <td>63984854223</td>\n",
       "      <td>marcusvin100@hotmail.com</td>\n",
       "      <td>TO</td>\n",
       "      <td>NaN</td>\n",
       "      <td>Forms</td>\n",
       "      <td>NaN</td>\n",
       "      <td>2021-02-03T15:26:38.607469,66111,sara.macedo.5...</td>\n",
       "    </tr>\n",
       "  </tbody>\n",
       "</table>\n",
       "<p>49146 rows × 9 columns</p>\n",
       "</div>"
      ],
      "text/plain": [
       "                                     Nome                 Sobrenome  \\\n",
       "0                                 Amanda                      Brito   \n",
       "1                                Letícia                   Gabriela   \n",
       "2                                    Ana      Carolina Cunha Araújo   \n",
       "3                                    Ana   Carolina Amorim Ferreira   \n",
       "4                                    Ana            kelly Rodrigues   \n",
       "...                                   ...                       ...   \n",
       "48185                               Sávio                       NaN   \n",
       "48186                    WERBET CHIMENDES                     NUNES   \n",
       "48187              Rafaela Martins Guarda                       NaN   \n",
       "48188                              Nicoly                       NaN   \n",
       "48189  Marcus Vinicius Santos de Oliveira                       NaN   \n",
       "\n",
       "           Telefone                           Email Estado        Cidade  \\\n",
       "0       66999366639  amandabrito.advogada@gmail.com     MT  Santa Carmem   \n",
       "1       69992504774         leegabrielaa@icloud.com     RO   Porto Velho   \n",
       "2      96 981149564             ana.cca86@gmail.com     AP        Macapá   \n",
       "3      93 991306734     carolamorim.psi@hotmail.com     PA      Santarém   \n",
       "4        6699352121            aninhak9@hotmail.com     MT       Poxoreu   \n",
       "...             ...                             ...    ...           ...   \n",
       "48185   63984773091          osavioguedes@gmail.com     TO           NaN   \n",
       "48186   98996045396            werbetcn10@gmail.com     MA           NaN   \n",
       "48187   63984815677           rafamguarda@gmail.com     TO           NaN   \n",
       "48188   63984851700           nicolysoa@hotmail.com     TO           NaN   \n",
       "48189   63984854223        marcusvin100@hotmail.com     TO           NaN   \n",
       "\n",
       "                 Origem E-mail  \\\n",
       "0      Voluntárias Mapa    NaN   \n",
       "1      Voluntárias Mapa    NaN   \n",
       "2      Voluntárias Mapa    NaN   \n",
       "3      Voluntárias Mapa    NaN   \n",
       "4      Voluntárias Mapa    NaN   \n",
       "...                 ...    ...   \n",
       "48185             Forms    NaN   \n",
       "48186             Forms    NaN   \n",
       "48187             Forms    NaN   \n",
       "48188             Forms    NaN   \n",
       "48189             Forms    NaN   \n",
       "\n",
       "                                              Updated At  \n",
       "0                                    2019-11-14T19:32:28  \n",
       "1                                    2019-11-14T19:32:48  \n",
       "2                                    2019-11-14T19:33:14  \n",
       "3                                    2019-11-14T19:33:22  \n",
       "4                                    2019-11-14T19:33:26  \n",
       "...                                                  ...  \n",
       "48185  2021-01-31T02:20:13.315228,66111,miriamlhirano...  \n",
       "48186  2021-02-02T16:21:50.485823,66111,feh.jung@hotm...  \n",
       "48187  2021-02-03T12:19:41.648564,66111,kellynha55@li...  \n",
       "48188  2021-02-03T13:27:53.005281,66111,olavo@bijari....  \n",
       "48189  2021-02-03T15:26:38.607469,66111,sara.macedo.5...  \n",
       "\n",
       "[49146 rows x 9 columns]"
      ]
     },
     "execution_count": 22,
     "metadata": {},
     "output_type": "execute_result"
    }
   ],
   "source": [
    "df"
   ]
  },
  {
   "cell_type": "code",
   "execution_count": 21,
   "metadata": {},
   "outputs": [],
   "source": [
    "df.to_csv('Contatos.csv', index=False)"
   ]
  }
 ],
 "metadata": {
  "kernelspec": {
   "display_name": "Python 3",
   "language": "python",
   "name": "python3"
  },
  "language_info": {
   "codemirror_mode": {
    "name": "ipython",
    "version": 3
   },
   "file_extension": ".py",
   "mimetype": "text/x-python",
   "name": "python",
   "nbconvert_exporter": "python",
   "pygments_lexer": "ipython3",
   "version": "3.6.5"
  }
 },
 "nbformat": 4,
 "nbformat_minor": 4
}
