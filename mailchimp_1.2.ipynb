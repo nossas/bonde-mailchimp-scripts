{
 "cells": [
  {
   "cell_type": "markdown",
   "metadata": {},
   "source": [
    "## Corte de Usuários Mailchimp"
   ]
  },
  {
   "cell_type": "markdown",
   "metadata": {},
   "source": [
    "## 1. Importando Pacotes"
   ]
  },
  {
   "cell_type": "code",
   "execution_count": 1,
   "metadata": {},
   "outputs": [],
   "source": [
    "import pandas as pd\n",
    "import numpy as np\n",
    "import datetime\n",
    "import os\n",
    "import glob, os\n",
    "import time"
   ]
  },
  {
   "cell_type": "markdown",
   "metadata": {},
   "source": [
    "## 1. Abrindo Bancos"
   ]
  },
  {
   "cell_type": "markdown",
   "metadata": {},
   "source": [
    "campaings: vem do export da conta do mailchimp. Opens e N_opens vem da seleção manual de todos os arquivos a partir de julho de 2019 das pastas de aggregate_activity, que também vem do export da conta. Por último, inscritos vem do export da audiência no mailchimp, apenas pra selecionarmos pra corte quem tá lá ainda e evitar quem é de outras comunidades."
   ]
  },
  {
   "cell_type": "code",
   "execution_count": 52,
   "metadata": {},
   "outputs": [],
   "source": [
    "files = glob.glob('/home/jovyan/work/mailchimp_dump/granular_activity/opens/*.csv')\n",
    "campaigns = pd.concat([pd.read_csv(fp, encoding='latin-1', nrows=1).assign(Campaign=os.path.basename(fp) ) \n",
    "                for fp in files], sort=False)\n",
    "campaigns = campaigns[['Timestamp', 'Campaign']]"
   ]
  },
  {
   "cell_type": "markdown",
   "metadata": {},
   "source": [
    "##### utilizando dados dos usários a partir de julho de 2019\n",
    "campaigns[campaigns['Timestamp'] > '2019-07-01 00:00:01'].sort_values('Timestamp').head(1)"
   ]
  },
  {
   "cell_type": "markdown",
   "metadata": {},
   "source": [
    "### 1.1 Aberturas"
   ]
  },
  {
   "cell_type": "code",
   "execution_count": 54,
   "metadata": {},
   "outputs": [
    {
     "name": "stdout",
     "output_type": "stream",
     "text": [
      "--- 9.940843105316162 seconds ---\n"
     ]
    }
   ],
   "source": [
    "start_time = time.time()\n",
    "\n",
    "files_opened = glob.glob('/home/jovyan/work/mailchimp_refined/recent_opened/*.csv')\n",
    "opens = pd.concat([pd.read_csv(fp, encoding='latin-1',usecols = [0,1,2]\n",
    "           ).assign(Campaign=os.path.basename(fp) ) for fp in files_opened], sort=False)\n",
    "\n",
    "print(\"--- %s seconds ---\" % (time.time() - start_time))"
   ]
  },
  {
   "cell_type": "code",
   "execution_count": 55,
   "metadata": {},
   "outputs": [],
   "source": [
    "open_1 = opens[['Email', 'Nome', 'Sobrenome', 'Campaign']].dropna(subset=['Email'])\n",
    "open_2 = opens[['Email Address', 'First Name', 'Last Name', 'Campaign']].dropna(subset=['Email Address'])\n",
    "open_2.columns = ['Email', 'Nome', 'Sobrenome', 'Campaign']\n",
    "opens = pd.concat([open_1, open_2])\n",
    "\n",
    "opens = opens.merge(campaigns,on='Campaign')\n",
    "opens['Atividade'] = 'abertura'"
   ]
  },
  {
   "cell_type": "markdown",
   "metadata": {},
   "source": [
    "### 1.2 Não aberturas"
   ]
  },
  {
   "cell_type": "code",
   "execution_count": 56,
   "metadata": {},
   "outputs": [
    {
     "name": "stdout",
     "output_type": "stream",
     "text": [
      "--- 28.214014768600464 seconds ---\n"
     ]
    }
   ],
   "source": [
    "start_time = time.time()\n",
    "\n",
    "files_notopened = glob.glob('/home/jovyan/work/mailchimp_refined/recent_not_opened/*.csv')\n",
    "n_opens = pd.concat([pd.read_csv(fp, encoding='latin-1',usecols = [0,1,2]\n",
    "           ).assign(Campaign=os.path.basename(fp) ) for fp in files_notopened], sort=False)\n",
    "\n",
    "print(\"--- %s seconds ---\" % (time.time() - start_time))"
   ]
  },
  {
   "cell_type": "code",
   "execution_count": 57,
   "metadata": {},
   "outputs": [],
   "source": [
    "n_open_1 = n_opens[['Email', 'Nome', 'Sobrenome', 'Campaign']].dropna(subset=['Email'])\n",
    "n_open_2 = n_opens[['Email Address', 'First Name', 'Last Name', 'Campaign']].dropna(subset=['Email Address'])\n",
    "n_open_2.columns = ['Email', 'Nome', 'Sobrenome', 'Campaign']\n",
    "n_opens = pd.concat([n_open_1, n_open_2])\n",
    "\n",
    "\n",
    "n_opens = n_opens.merge(campaigns,on='Campaign')\n",
    "n_opens['Atividade'] = 'não abertura'"
   ]
  },
  {
   "cell_type": "markdown",
   "metadata": {},
   "source": [
    "### 2. Unindo dados"
   ]
  },
  {
   "cell_type": "code",
   "execution_count": 58,
   "metadata": {},
   "outputs": [],
   "source": [
    "all_activities = pd.concat([opens, n_opens])\n",
    "all_activities = all_activities.sort_values(['Email','Timestamp'])\n",
    "all_activities.to_csv('all_recent_activities.csv', index=False)"
   ]
  },
  {
   "cell_type": "markdown",
   "metadata": {},
   "source": [
    "### 2.1 Mantendo Apenas Inscritos\n",
    "Selecionando apenas inscritos + identificando quais inscrições"
   ]
  },
  {
   "cell_type": "code",
   "execution_count": 67,
   "metadata": {},
   "outputs": [],
   "source": [
    "#df = pd.read_csv('all_recent_activities.csv')\n",
    "df = all_activities.copy()"
   ]
  },
  {
   "cell_type": "code",
   "execution_count": 70,
   "metadata": {},
   "outputs": [],
   "source": [
    "inscritos = pd.read_csv(\"/home/jovyan/work/members/subscribed.csv\", usecols = ['Email', 'Inscrições', 'MEMBER_RATING'])\n",
    "df = df.merge(inscritos, on='Email')\n",
    "df['Inscrições'] = df['Inscrições'].fillna('0')"
   ]
  },
  {
   "cell_type": "code",
   "execution_count": 94,
   "metadata": {},
   "outputs": [],
   "source": [
    "df['corte'] = np.where((df['Inscrições'].str.contains('Meu Recife') |df['Inscrições'].str.contains('Minha Jampa') \n",
    "         | df['Inscrições'].str.contains('Minha Campinas') | df['Inscrições'].str.contains('Minha Porto Alegre'))\n",
    "         , \"imune\", \"elegível\")\n",
    "df = df[df['corte'] == 'elegível']"
   ]
  },
  {
   "cell_type": "markdown",
   "metadata": {},
   "source": [
    "### 3. Criando banco no nível do usuário"
   ]
  },
  {
   "cell_type": "code",
   "execution_count": 164,
   "metadata": {},
   "outputs": [],
   "source": [
    "user_nopen = df[df['Atividade'] == 'não abertura'].groupby('Email', as_index=False).agg({'Atividade': \"count\"})\n",
    "user_open = df[df['Atividade'] == 'abertura'].groupby('Email', as_index=False).agg({'Atividade': \"count\"})\n",
    "user_geral = df.groupby('Email', as_index=False).agg({\"Timestamp\":\"first\",\"Campaign\" : \"first\" ,\"Inscrições\":\"last\",\"MEMBER_RATING\":\"last\"})\n",
    "user_nopen.columns = ['Email','n_open']\n",
    "user_open.columns = ['Email', 'open']\n",
    "user_geral.columns = ['Email', 'First Email', 'Campaign', 'Inscrições', 'Member Rating']\n",
    "user = pd.merge(user_nopen, user_open, on='Email', how='outer', indicator=True)\n",
    "user = user.merge(user_geral, on='Email')"
   ]
  },
  {
   "cell_type": "code",
   "execution_count": 165,
   "metadata": {},
   "outputs": [],
   "source": [
    "user['n_open'] = user['n_open'].fillna(0)\n",
    "user['open'] = user['open'].fillna(0)\n",
    "user['open_rate'] = user['open']/(user['open'] + user['n_open'])\n",
    "user['total_emails'] = user['open'] + user['n_open']"
   ]
  },
  {
   "cell_type": "markdown",
   "metadata": {},
   "source": [
    "### 4. Cortes"
   ]
  },
  {
   "cell_type": "markdown",
   "metadata": {},
   "source": [
    "#### 4.1 Primeiro corte: Quem nunca abriu um email"
   ]
  },
  {
   "cell_type": "code",
   "execution_count": 166,
   "metadata": {},
   "outputs": [
    {
     "data": {
      "text/plain": [
       "(428273, 10)"
      ]
     },
     "execution_count": 166,
     "metadata": {},
     "output_type": "execute_result"
    }
   ],
   "source": [
    "user[(user['open_rate'] == 0)].shape"
   ]
  },
  {
   "cell_type": "code",
   "execution_count": 168,
   "metadata": {},
   "outputs": [
    {
     "data": {
      "text/plain": [
       "178267"
      ]
     },
     "execution_count": 168,
     "metadata": {},
     "output_type": "execute_result"
    }
   ],
   "source": [
    "inativos = user[(user['open_rate'] == 0) & (user['total_emails'] >= 3)][['Email']] ## abriram nenhum e já receberam ao menos 3\n",
    "inativos_velhos = user[(user['open_rate'] == 0) & (user['First Email'] < '2020-01-01 13:35:47')][[\n",
    "    'Email']] # abriram 0 e são mto antigos\n",
    "inativos = pd.concat([inativos, inativos_velhos])\n",
    "inativos.Email.nunique() # 250006 salvos pq receberam menos de 3 emails."
   ]
  },
  {
   "cell_type": "markdown",
   "metadata": {},
   "source": [
    "#### 4.2 Segundo corte: quem já abriu pelo menos um email"
   ]
  },
  {
   "cell_type": "code",
   "execution_count": 135,
   "metadata": {},
   "outputs": [],
   "source": [
    "user = user[(user['open_rate'] != 0)]"
   ]
  },
  {
   "cell_type": "code",
   "execution_count": 180,
   "metadata": {},
   "outputs": [],
   "source": [
    "df_3 = df.groupby('Email').tail(3) #last 3 rows\n",
    "df_4 = df.groupby('Email').tail(4) #last 3 rows\n",
    "df_5 = df.groupby('Email').tail(5) #last 5 rows\n",
    "df_10 = df.groupby('Email').tail(10) #last 10 rows"
   ]
  },
  {
   "cell_type": "code",
   "execution_count": 181,
   "metadata": {
    "collapsed": true
   },
   "outputs": [
    {
     "name": "stderr",
     "output_type": "stream",
     "text": [
      "/opt/conda/lib/python3.6/site-packages/ipykernel_launcher.py:1: SettingWithCopyWarning: \n",
      "A value is trying to be set on a copy of a slice from a DataFrame.\n",
      "Try using .loc[row_indexer,col_indexer] = value instead\n",
      "\n",
      "See the caveats in the documentation: https://pandas.pydata.org/pandas-docs/stable/user_guide/indexing.html#returning-a-view-versus-a-copy\n",
      "  \"\"\"Entry point for launching an IPython kernel.\n",
      "/opt/conda/lib/python3.6/site-packages/ipykernel_launcher.py:2: SettingWithCopyWarning: \n",
      "A value is trying to be set on a copy of a slice from a DataFrame.\n",
      "Try using .loc[row_indexer,col_indexer] = value instead\n",
      "\n",
      "See the caveats in the documentation: https://pandas.pydata.org/pandas-docs/stable/user_guide/indexing.html#returning-a-view-versus-a-copy\n",
      "  \n",
      "/opt/conda/lib/python3.6/site-packages/ipykernel_launcher.py:4: SettingWithCopyWarning: \n",
      "A value is trying to be set on a copy of a slice from a DataFrame.\n",
      "Try using .loc[row_indexer,col_indexer] = value instead\n",
      "\n",
      "See the caveats in the documentation: https://pandas.pydata.org/pandas-docs/stable/user_guide/indexing.html#returning-a-view-versus-a-copy\n",
      "  after removing the cwd from sys.path.\n",
      "/opt/conda/lib/python3.6/site-packages/ipykernel_launcher.py:5: SettingWithCopyWarning: \n",
      "A value is trying to be set on a copy of a slice from a DataFrame.\n",
      "Try using .loc[row_indexer,col_indexer] = value instead\n",
      "\n",
      "See the caveats in the documentation: https://pandas.pydata.org/pandas-docs/stable/user_guide/indexing.html#returning-a-view-versus-a-copy\n",
      "  \"\"\"\n",
      "/opt/conda/lib/python3.6/site-packages/ipykernel_launcher.py:7: SettingWithCopyWarning: \n",
      "A value is trying to be set on a copy of a slice from a DataFrame.\n",
      "Try using .loc[row_indexer,col_indexer] = value instead\n",
      "\n",
      "See the caveats in the documentation: https://pandas.pydata.org/pandas-docs/stable/user_guide/indexing.html#returning-a-view-versus-a-copy\n",
      "  import sys\n",
      "/opt/conda/lib/python3.6/site-packages/ipykernel_launcher.py:8: SettingWithCopyWarning: \n",
      "A value is trying to be set on a copy of a slice from a DataFrame.\n",
      "Try using .loc[row_indexer,col_indexer] = value instead\n",
      "\n",
      "See the caveats in the documentation: https://pandas.pydata.org/pandas-docs/stable/user_guide/indexing.html#returning-a-view-versus-a-copy\n",
      "  \n",
      "/opt/conda/lib/python3.6/site-packages/ipykernel_launcher.py:10: SettingWithCopyWarning: \n",
      "A value is trying to be set on a copy of a slice from a DataFrame.\n",
      "Try using .loc[row_indexer,col_indexer] = value instead\n",
      "\n",
      "See the caveats in the documentation: https://pandas.pydata.org/pandas-docs/stable/user_guide/indexing.html#returning-a-view-versus-a-copy\n",
      "  # Remove the CWD from sys.path while we load stuff.\n",
      "/opt/conda/lib/python3.6/site-packages/ipykernel_launcher.py:11: SettingWithCopyWarning: \n",
      "A value is trying to be set on a copy of a slice from a DataFrame.\n",
      "Try using .loc[row_indexer,col_indexer] = value instead\n",
      "\n",
      "See the caveats in the documentation: https://pandas.pydata.org/pandas-docs/stable/user_guide/indexing.html#returning-a-view-versus-a-copy\n",
      "  # This is added back by InteractiveShellApp.init_path()\n"
     ]
    }
   ],
   "source": [
    "df_3['abertura'] = np.where((df_3['Atividade'] =='abertura') ,1, 0)\n",
    "df_3['não abertura'] = np.where((df_3['Atividade'] == 'não abertura'), 1, 0)\n",
    "\n",
    "df_4['abertura'] = np.where((df_4['Atividade'] =='abertura') ,1, 0)\n",
    "df_4['não abertura'] = np.where((df_4['Atividade'] == 'não abertura'), 1, 0)\n",
    "\n",
    "df_5['abertura'] = np.where((df_5['Atividade'] =='abertura') ,1, 0)\n",
    "df_5['não abertura'] = np.where((df_5['Atividade'] == 'não abertura'), 1, 0)\n",
    "\n",
    "df_10['abertura'] = np.where((df_10['Atividade'] =='abertura') ,1, 0)\n",
    "df_10['não abertura'] = np.where((df_10['Atividade'] == 'não abertura'), 1, 0)"
   ]
  },
  {
   "cell_type": "code",
   "execution_count": 182,
   "metadata": {},
   "outputs": [],
   "source": [
    "df_3 = df_3.groupby(['Email', 'Inscrições'],as_index=False).agg({'Atividade': \"count\", 'abertura': 'sum', 'não abertura':'sum'})\n",
    "df_4 = df_4.groupby(['Email', 'Inscrições'],as_index=False).agg({'Atividade': \"count\", 'abertura': 'sum', 'não abertura':'sum'})\n",
    "df_5 = df_5.groupby(['Email', 'Inscrições'],as_index=False).agg({'Atividade': \"count\", 'abertura': 'sum', 'não abertura':'sum'})\n",
    "df_10=df_10.groupby(['Email', 'Inscrições'],as_index=False).agg({'Atividade': \"count\", 'abertura': 'sum', 'não abertura':'sum'})"
   ]
  },
  {
   "cell_type": "code",
   "execution_count": 185,
   "metadata": {},
   "outputs": [],
   "source": [
    "apagar_3 = df_3[(df_3['Atividade'] == 3) & (df_3['não abertura'] == 3)]\n",
    "apagar_4 = df_5[(df_4['Atividade'] == 4) & (df_4['não abertura'] == 4)]\n",
    "apagar_5 = df_5[(df_5['Atividade'] == 5) & (df_5['não abertura'] == 5)]\n",
    "apagar_10 = df_10[(df_10['Atividade'] == 10) & (df_10['não abertura'] == 10)]"
   ]
  },
  {
   "cell_type": "markdown",
   "metadata": {},
   "source": [
    "### 5. Decidindo quem vai ser cortado"
   ]
  },
  {
   "cell_type": "code",
   "execution_count": 229,
   "metadata": {},
   "outputs": [
    {
     "name": "stdout",
     "output_type": "stream",
     "text": [
      "404280\n",
      "+ 56151\n",
      "+ 145634\n",
      "+ 171663\n",
      "+ 78343\n"
     ]
    }
   ],
   "source": [
    "print(pd.concat([inativos, apagar_5]).Email.nunique())\n",
    "print('+',pd.concat([inativos, apagar_4]).Email.nunique()  - 404280)\n",
    "print('+',pd.concat([inativos, apagar_3]).Email.nunique() - 404280)\n",
    "print('+',pd.concat([inativos, apagar_5, user[(user['open_rate'] == 0) & (user['total_emails'] == 1)]]).Email.nunique() - 404280)\n",
    "print('+',pd.concat([inativos, apagar_5, user[(user['open_rate'] == 0) & (user['total_emails'] == 2)]]).Email.nunique() - 404280)  "
   ]
  },
  {
   "cell_type": "markdown",
   "metadata": {},
   "source": [
    "Diretoria solicitou remover os 145 a mais que não abriram os 3 últimos emails, mas por segurança, mantive quem tem mais de 30% de abertura entre esses."
   ]
  },
  {
   "cell_type": "code",
   "execution_count": 263,
   "metadata": {},
   "outputs": [],
   "source": [
    "a3_opens = apagar_3.merge(user[['Email', 'open_rate']], how='left')\n",
    "a3 = a3[a3['open_rate']<0.3]"
   ]
  },
  {
   "cell_type": "markdown",
   "metadata": {},
   "source": [
    "Corte opção 1: todo mundo que não abriu nenhum email e recebeu mas de 3 ou é mais antigo que 8 meses na base. Entre quem já abriu um email, sai quem já recebeu pelo menos 3 emails e não abriu nenhum dos últimos 3, exceto os que tem open rate geral maior que 30%. \n",
    "\n",
    "<br>\n",
    "\n",
    "Corte opção 2: todo mundo que não abriu nenhum email e recebeu mas de 3 ou é mais antigo que 8 meses na base. Entre quem já abriu um email, sai quem já recebeu pelo menos 3 emails e não abriu nenhum dos últimos 3."
   ]
  },
  {
   "cell_type": "code",
   "execution_count": 276,
   "metadata": {},
   "outputs": [],
   "source": [
    "corte_opcao1 = pd.concat([inativos, apagar_5, a3.iloc[:,:-1]])[['Email']].drop_duplicates()\n",
    "corte_opcao2 = pd.concat([inativos, apagar_5, apagar_3])[['Email']].drop_duplicates()"
   ]
  },
  {
   "cell_type": "code",
   "execution_count": 279,
   "metadata": {},
   "outputs": [],
   "source": [
    "corte_opcao1.to_csv('corte_leve.csv', index=False)\n",
    "corte_opcao2.to_csv('corte_severo.csv', index=False)"
   ]
  },
  {
   "cell_type": "code",
   "execution_count": null,
   "metadata": {},
   "outputs": [],
   "source": [
    "corte_opcao1.shape"
   ]
  },
  {
   "cell_type": "code",
   "execution_count": null,
   "metadata": {},
   "outputs": [],
   "source": []
  }
 ],
 "metadata": {
  "kernelspec": {
   "display_name": "Python 3",
   "language": "python",
   "name": "python3"
  },
  "language_info": {
   "codemirror_mode": {
    "name": "ipython",
    "version": 3
   },
   "file_extension": ".py",
   "mimetype": "text/x-python",
   "name": "python",
   "nbconvert_exporter": "python",
   "pygments_lexer": "ipython3",
   "version": "3.6.5"
  }
 },
 "nbformat": 4,
 "nbformat_minor": 2
}
